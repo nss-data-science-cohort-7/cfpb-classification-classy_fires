{
 "cells": [
  {
   "cell_type": "markdown",
   "id": "7be37386-a978-4d1a-9750-6c5fcf3e0860",
   "metadata": {},
   "source": [
    "# Exploratory Data Analysis on Complaints Dataset"
   ]
  },
  {
   "cell_type": "code",
   "execution_count": 28,
   "id": "5cf6760e-e999-439c-a197-4c97235e9f54",
   "metadata": {},
   "outputs": [],
   "source": [
    "import pandas as pd \n",
    "import numpy as np \n",
    "import re\n",
    "\n",
    "import spacy\n",
    "nlp = spacy.load('en_core_web_sm')\n",
    "\n",
    "from nltk import sent_tokenize, word_tokenize, regexp_tokenize\n",
    "from nltk.corpus import stopwords\n",
    "\n",
    "from string import punctuation\n",
    "\n",
    "from collections import Counter\n",
    "\n",
    "from joblib import dump, load\n",
    "\n",
    "from sklearn.naive_bayes import MultinomialNB\n",
    "\n",
    "from sklearn.model_selection import train_test_split, RandomizedSearchCV\n",
    "from sklearn.pipeline import Pipeline\n",
    "from sklearn.feature_extraction.text import CountVectorizer, TfidfVectorizer\n",
    "from sklearn.metrics import accuracy_score, confusion_matrix\n",
    "from sklearn.preprocessing import LabelEncoder\n",
    "from numpy import ravel\n",
    "\n",
    "from sklearn.model_selection import GridSearchCV"
   ]
  },
  {
   "cell_type": "code",
   "execution_count": 2,
   "id": "62301103-f29c-4239-852c-2725ec53d0dc",
   "metadata": {},
   "outputs": [],
   "source": [
    "complaints = pd.read_csv('../data/complaints.csv')"
   ]
  },
  {
   "cell_type": "code",
   "execution_count": 3,
   "id": "956135c5-1556-4297-8181-1c0c1c3f62d0",
   "metadata": {},
   "outputs": [
    {
     "data": {
      "text/html": [
       "<div>\n",
       "<style scoped>\n",
       "    .dataframe tbody tr th:only-of-type {\n",
       "        vertical-align: middle;\n",
       "    }\n",
       "\n",
       "    .dataframe tbody tr th {\n",
       "        vertical-align: top;\n",
       "    }\n",
       "\n",
       "    .dataframe thead th {\n",
       "        text-align: right;\n",
       "    }\n",
       "</style>\n",
       "<table border=\"1\" class=\"dataframe\">\n",
       "  <thead>\n",
       "    <tr style=\"text-align: right;\">\n",
       "      <th></th>\n",
       "      <th>Consumer complaint narrative</th>\n",
       "      <th>Issue</th>\n",
       "    </tr>\n",
       "  </thead>\n",
       "  <tbody>\n",
       "    <tr>\n",
       "      <th>0</th>\n",
       "      <td>My name is XXXX XXXX this complaint is not mad...</td>\n",
       "      <td>Incorrect information on your report</td>\n",
       "    </tr>\n",
       "    <tr>\n",
       "      <th>1</th>\n",
       "      <td>I searched on XXXX for XXXXXXXX XXXX  and was ...</td>\n",
       "      <td>Fraud or scam</td>\n",
       "    </tr>\n",
       "    <tr>\n",
       "      <th>2</th>\n",
       "      <td>I have a particular account that is stating th...</td>\n",
       "      <td>Incorrect information on your report</td>\n",
       "    </tr>\n",
       "    <tr>\n",
       "      <th>3</th>\n",
       "      <td>I have not supplied proof under the doctrine o...</td>\n",
       "      <td>Attempts to collect debt not owed</td>\n",
       "    </tr>\n",
       "    <tr>\n",
       "      <th>4</th>\n",
       "      <td>Hello i'm writing regarding account on my cred...</td>\n",
       "      <td>Incorrect information on your report</td>\n",
       "    </tr>\n",
       "  </tbody>\n",
       "</table>\n",
       "</div>"
      ],
      "text/plain": [
       "                        Consumer complaint narrative  \\\n",
       "0  My name is XXXX XXXX this complaint is not mad...   \n",
       "1  I searched on XXXX for XXXXXXXX XXXX  and was ...   \n",
       "2  I have a particular account that is stating th...   \n",
       "3  I have not supplied proof under the doctrine o...   \n",
       "4  Hello i'm writing regarding account on my cred...   \n",
       "\n",
       "                                  Issue  \n",
       "0  Incorrect information on your report  \n",
       "1                         Fraud or scam  \n",
       "2  Incorrect information on your report  \n",
       "3     Attempts to collect debt not owed  \n",
       "4  Incorrect information on your report  "
      ]
     },
     "execution_count": 3,
     "metadata": {},
     "output_type": "execute_result"
    }
   ],
   "source": [
    "complaints.head(5)"
   ]
  },
  {
   "cell_type": "code",
   "execution_count": 4,
   "id": "718679b9-a31a-4cc7-95fb-24b5f1a75b06",
   "metadata": {},
   "outputs": [
    {
     "data": {
      "text/plain": [
       "array(['Incorrect information on your report', 'Fraud or scam',\n",
       "       'Attempts to collect debt not owed', 'Communication tactics',\n",
       "       'Struggling to pay mortgage'], dtype=object)"
      ]
     },
     "execution_count": 4,
     "metadata": {},
     "output_type": "execute_result"
    }
   ],
   "source": [
    "complaints['Issue'].unique()"
   ]
  },
  {
   "cell_type": "code",
   "execution_count": 5,
   "id": "33707d03-b514-4f47-b2a0-8d743265e75d",
   "metadata": {},
   "outputs": [],
   "source": [
    "complaints = complaints.rename(columns = {'Consumer complaint narrative':'text'})"
   ]
  },
  {
   "cell_type": "code",
   "execution_count": 6,
   "id": "dee6c74b-f00e-46d4-887f-7e8ac73a48fe",
   "metadata": {},
   "outputs": [
    {
     "data": {
      "text/html": [
       "<div>\n",
       "<style scoped>\n",
       "    .dataframe tbody tr th:only-of-type {\n",
       "        vertical-align: middle;\n",
       "    }\n",
       "\n",
       "    .dataframe tbody tr th {\n",
       "        vertical-align: top;\n",
       "    }\n",
       "\n",
       "    .dataframe thead th {\n",
       "        text-align: right;\n",
       "    }\n",
       "</style>\n",
       "<table border=\"1\" class=\"dataframe\">\n",
       "  <thead>\n",
       "    <tr style=\"text-align: right;\">\n",
       "      <th></th>\n",
       "      <th>text</th>\n",
       "      <th>Issue</th>\n",
       "    </tr>\n",
       "  </thead>\n",
       "  <tbody>\n",
       "    <tr>\n",
       "      <th>0</th>\n",
       "      <td>My name is XXXX XXXX this complaint is not mad...</td>\n",
       "      <td>Incorrect information on your report</td>\n",
       "    </tr>\n",
       "    <tr>\n",
       "      <th>1</th>\n",
       "      <td>I searched on XXXX for XXXXXXXX XXXX  and was ...</td>\n",
       "      <td>Fraud or scam</td>\n",
       "    </tr>\n",
       "    <tr>\n",
       "      <th>2</th>\n",
       "      <td>I have a particular account that is stating th...</td>\n",
       "      <td>Incorrect information on your report</td>\n",
       "    </tr>\n",
       "    <tr>\n",
       "      <th>3</th>\n",
       "      <td>I have not supplied proof under the doctrine o...</td>\n",
       "      <td>Attempts to collect debt not owed</td>\n",
       "    </tr>\n",
       "    <tr>\n",
       "      <th>4</th>\n",
       "      <td>Hello i'm writing regarding account on my cred...</td>\n",
       "      <td>Incorrect information on your report</td>\n",
       "    </tr>\n",
       "  </tbody>\n",
       "</table>\n",
       "</div>"
      ],
      "text/plain": [
       "                                                text  \\\n",
       "0  My name is XXXX XXXX this complaint is not mad...   \n",
       "1  I searched on XXXX for XXXXXXXX XXXX  and was ...   \n",
       "2  I have a particular account that is stating th...   \n",
       "3  I have not supplied proof under the doctrine o...   \n",
       "4  Hello i'm writing regarding account on my cred...   \n",
       "\n",
       "                                  Issue  \n",
       "0  Incorrect information on your report  \n",
       "1                         Fraud or scam  \n",
       "2  Incorrect information on your report  \n",
       "3     Attempts to collect debt not owed  \n",
       "4  Incorrect information on your report  "
      ]
     },
     "execution_count": 6,
     "metadata": {},
     "output_type": "execute_result"
    }
   ],
   "source": [
    "complaints.head(5)"
   ]
  },
  {
   "cell_type": "code",
   "execution_count": 7,
   "id": "32e292ab-b549-4ce3-be07-df7b2fef4ddc",
   "metadata": {
    "scrolled": true
   },
   "outputs": [
    {
     "data": {
      "text/plain": [
       "Issue\n",
       "Attempts to collect debt not owed        73163\n",
       "Communication tactics                    21243\n",
       "Fraud or scam                            12347\n",
       "Incorrect information on your report    229305\n",
       "Struggling to pay mortgage               17374\n",
       "Name: count, dtype: int64"
      ]
     },
     "execution_count": 7,
     "metadata": {},
     "output_type": "execute_result"
    }
   ],
   "source": [
    "complaints['Issue'].value_counts().sort_index()"
   ]
  },
  {
   "cell_type": "code",
   "execution_count": 8,
   "id": "e9f95934-28bf-4356-96b9-15cf4c76103f",
   "metadata": {},
   "outputs": [],
   "source": [
    "first_complaint = complaints.loc[0, \"text\"]"
   ]
  },
  {
   "cell_type": "code",
   "execution_count": 15,
   "id": "77417014-f591-4065-9012-b6326eccc854",
   "metadata": {},
   "outputs": [
    {
     "data": {
      "text/plain": [
       "'My name is XXXX XXXX this complaint is not made in error neither is it being made by a third party. I declare under penalty of perjury I am alleging that a person or company- without my authorization- from unauthorized use of my social security number and card used my personal identifying information to apply for goods, services, or money ; and, was successful in creating some accounts. I have no knowledge of this and all is being investigated by the FTC and Under 15 U.S. Code 1681b Permissible purposes of consumer reports I never gave any written consent to report anything on my consumer reports. XXXX XXXX XXXX  XXXX XXXX Date Opened : XX/XX/2018 Balance : {$98000.00}. Please delete this account ASAP.'"
      ]
     },
     "execution_count": 15,
     "metadata": {},
     "output_type": "execute_result"
    }
   ],
   "source": [
    "first_complaint"
   ]
  },
  {
   "cell_type": "markdown",
   "id": "36ef74d2-5837-4b12-813c-382e1467a454",
   "metadata": {},
   "source": [
    "## Function to show the before and after cleaning text"
   ]
  },
  {
   "cell_type": "code",
   "execution_count": 19,
   "id": "b6dc8d92-9cd1-467c-9da1-bd16cacbf5e3",
   "metadata": {},
   "outputs": [],
   "source": [
    "def print_text(sample, clean):\n",
    "    print(f\"Before: {sample}\")\n",
    "    print(\"------------------\")\n",
    "    print(f\"After: {clean}\")"
   ]
  },
  {
   "cell_type": "markdown",
   "id": "378d9333-e8be-4411-9e5a-7870c94d3be7",
   "metadata": {},
   "source": [
    "## Cleaning the text"
   ]
  },
  {
   "cell_type": "code",
   "execution_count": null,
   "id": "0a22ed55-6e30-4995-9e88-06cdb0f20a6a",
   "metadata": {},
   "outputs": [],
   "source": [
    "# remove punctuation and numbers\n",
    "complaints['text'] = complaints['text'].apply(lambda x: re.sub(r'[^a-zA-Z\\s]', '', x))\n",
    "# xxx\n",
    "complaints['text'] = complaints['text'].apply(lambda x: re.sub(r'\\b[xX]{2,}\\b', '', x))\n",
    "# line breaks\n",
    "complaints['text'] = complaints['text'].apply(lambda x: re.sub(r'\\n|\\r|\\t', ' ', x))\n",
    "# html tags\n",
    "complaints['text'] = complaints['text'].apply(lambda x: re.sub(r'<.*?>', '', x))"
   ]
  },
  {
   "cell_type": "code",
   "execution_count": null,
   "id": "1a340124-b0c4-4447-9796-e90a2b72bb7b",
   "metadata": {},
   "outputs": [],
   "source": [
    "complaints.head(10)"
   ]
  },
  {
   "cell_type": "code",
   "execution_count": null,
   "id": "33771ae3-70b6-4ea5-b0df-f6ec72ba6b02",
   "metadata": {},
   "outputs": [],
   "source": [
    "seed = 123\n",
    "for statement in complaints.loc[complaints['Issue'] == 'Attempts to collect debt not owed', 'text'].sample(3, random_state=seed):\n",
    "    print(statement)\n",
    "    print('-----------------------------')"
   ]
  },
  {
   "cell_type": "markdown",
   "id": "8f631ced-37b7-4b14-acf0-dbd479406d5a",
   "metadata": {},
   "source": [
    "### Remove non-alphabetic characters"
   ]
  },
  {
   "cell_type": "code",
   "execution_count": 20,
   "id": "70a95ba9-0e84-4013-9ba8-ce9eec860765",
   "metadata": {},
   "outputs": [
    {
     "name": "stdout",
     "output_type": "stream",
     "text": [
      "Before: My name is XXXX XXXX this complaint is not made in error neither is it being made by a third party. I declare under penalty of perjury I am alleging that a person or company- without my authorization- from unauthorized use of my social security number and card used my personal identifying information to apply for goods, services, or money ; and, was successful in creating some accounts. I have no knowledge of this and all is being investigated by the FTC and Under 15 U.S. Code 1681b Permissible purposes of consumer reports I never gave any written consent to report anything on my consumer reports. XXXX XXXX XXXX  XXXX XXXX Date Opened : XX/XX/2018 Balance : {$98000.00}. Please delete this account ASAP.\n",
      "------------------\n",
      "After: My name is XXXX XXXX this complaint is not made in error neither is it being made by a third I declare under penalty of perjury I am alleging that a person or without my from unauthorized use of my social security number and card used my personal identifying information to apply for or money was successful in creating some I have no knowledge of this and all is being investigated by the FTC and Under Code Permissible purposes of consumer reports I never gave any written consent to report anything on my consumer XXXX XXXX XXXX XXXX XXXX Date Opened Balance Please delete this account\n"
     ]
    }
   ],
   "source": [
    "sample_text = complaints.loc[0, \"text\"]\n",
    "clean_text = \" \".join([w for w in sample_text.split() if w.isalpha()]) # Side effect: removes extra spaces\n",
    "print_text(sample_text, clean_text)"
   ]
  },
  {
   "cell_type": "markdown",
   "id": "1f5cc34d-4aa8-47b2-83c0-9eb1618fa6d7",
   "metadata": {},
   "source": [
    "## Remove all special characters and punctuation"
   ]
  },
  {
   "cell_type": "code",
   "execution_count": 21,
   "id": "cd8d98f9-014f-4f25-aa19-2f5bff4a702d",
   "metadata": {
    "scrolled": true
   },
   "outputs": [
    {
     "name": "stdout",
     "output_type": "stream",
     "text": [
      "Before: My name is XXXX XXXX this complaint is not made in error neither is it being made by a third party. I declare under penalty of perjury I am alleging that a person or company- without my authorization- from unauthorized use of my social security number and card used my personal identifying information to apply for goods, services, or money ; and, was successful in creating some accounts. I have no knowledge of this and all is being investigated by the FTC and Under 15 U.S. Code 1681b Permissible purposes of consumer reports I never gave any written consent to report anything on my consumer reports. XXXX XXXX XXXX  XXXX XXXX Date Opened : XX/XX/2018 Balance : {$98000.00}. Please delete this account ASAP.\n",
      "------------------\n",
      "After: My name is XXXX XXXX this complaint is not made in error neither is it being made by a third party I declare under penalty of perjury I am alleging that a person or company without my authorization from unauthorized use of my social security number and card used my personal identifying information to apply for goods services or money  and was successful in creating some accounts I have no knowledge of this and all is being investigated by the FTC and Under 15 US Code 1681b Permissible purposes of consumer reports I never gave any written consent to report anything on my consumer reports XXXX XXXX XXXX  XXXX XXXX Date Opened  XXXX2018 Balance  9800000 Please delete this account ASAP\n"
     ]
    }
   ],
   "source": [
    "clean_text = re.sub(r\"[^A-Za-z0-9\\s]+\", \"\", sample_text)\n",
    "print_text(sample_text, clean_text)"
   ]
  },
  {
   "cell_type": "markdown",
   "id": "c2038e35-7a30-4b8b-a1c7-44785e159507",
   "metadata": {},
   "source": [
    "## Remove extra spaces, tabs, and line breaks"
   ]
  },
  {
   "cell_type": "code",
   "execution_count": 34,
   "id": "8985f96c-2227-4f64-bf05-517be5ae4adf",
   "metadata": {},
   "outputs": [
    {
     "name": "stdout",
     "output_type": "stream",
     "text": [
      "Before: My name is XXXX XXXX this complaint is not made in error neither is it being made by a third party. I declare under penalty of perjury I am alleging that a person or company- without my authorization- from unauthorized use of my social security number and card used my personal identifying information to apply for goods, services, or money ; and, was successful in creating some accounts. I have no knowledge of this and all is being investigated by the FTC and Under 15 U.S. Code 1681b Permissible purposes of consumer reports I never gave any written consent to report anything on my consumer reports. XXXX XXXX XXXX  XXXX XXXX Date Opened : XX/XX/2018 Balance : {$98000.00}. Please delete this account ASAP.\n",
      "------------------\n",
      "After: My name is XXXX XXXX this complaint is not made in error neither is it being made by a third party. I declare under penalty of perjury I am alleging that a person or company- without my authorization- from unauthorized use of my social security number and card used my personal identifying information to apply for goods, services, or money ; and, was successful in creating some accounts. I have no knowledge of this and all is being investigated by the FTC and Under 15 U.S. Code 1681b Permissible purposes of consumer reports I never gave any written consent to report anything on my consumer reports. XXXX XXXX XXXX XXXX XXXX Date Opened : XX/XX/2018 Balance : {$98000.00}. Please delete this account ASAP.\n"
     ]
    }
   ],
   "source": [
    "clean_text = \" \".join(sample_text.split())\n",
    "print_text(sample_text, clean_text)"
   ]
  },
  {
   "cell_type": "markdown",
   "id": "4ce426bd-2bd3-4cc5-98c3-4243a141b476",
   "metadata": {},
   "source": [
    "## Remove punctuation"
   ]
  },
  {
   "cell_type": "code",
   "execution_count": 35,
   "id": "1ab7c94d-dffc-41d2-b919-3f2e006ed624",
   "metadata": {},
   "outputs": [
    {
     "name": "stdout",
     "output_type": "stream",
     "text": [
      "Before: My name is XXXX XXXX this complaint is not made in error neither is it being made by a third party. I declare under penalty of perjury I am alleging that a person or company- without my authorization- from unauthorized use of my social security number and card used my personal identifying information to apply for goods, services, or money ; and, was successful in creating some accounts. I have no knowledge of this and all is being investigated by the FTC and Under 15 U.S. Code 1681b Permissible purposes of consumer reports I never gave any written consent to report anything on my consumer reports. XXXX XXXX XXXX  XXXX XXXX Date Opened : XX/XX/2018 Balance : {$98000.00}. Please delete this account ASAP.\n",
      "------------------\n",
      "After: My name is XXXX XXXX this complaint is not made in error neither is it being made by a third party I declare under penalty of perjury I am alleging that a person or company without my authorization from unauthorized use of my social security number and card used my personal identifying information to apply for goods services or money  and was successful in creating some accounts I have no knowledge of this and all is being investigated by the FTC and Under 15 US Code 1681b Permissible purposes of consumer reports I never gave any written consent to report anything on my consumer reports XXXX XXXX XXXX  XXXX XXXX Date Opened  XXXX2018 Balance  9800000 Please delete this account ASAP\n"
     ]
    }
   ],
   "source": [
    "clean_text = re.sub(f\"[{re.escape(punctuation)}]\", \"\", sample_text)\n",
    "print_text(sample_text, clean_text)"
   ]
  },
  {
   "cell_type": "markdown",
   "id": "6615b96d-90bc-4a87-9536-47e364ac6cca",
   "metadata": {},
   "source": [
    "## Remove repeated characters"
   ]
  },
  {
   "cell_type": "code",
   "execution_count": 22,
   "id": "ec9f3d7c-37c0-4141-9df4-1285d3ade622",
   "metadata": {
    "scrolled": true
   },
   "outputs": [
    {
     "name": "stdout",
     "output_type": "stream",
     "text": [
      "Before: My name is XXXX XXXX this complaint is not made in error neither is it being made by a third party. I declare under penalty of perjury I am alleging that a person or company- without my authorization- from unauthorized use of my social security number and card used my personal identifying information to apply for goods, services, or money ; and, was successful in creating some accounts. I have no knowledge of this and all is being investigated by the FTC and Under 15 U.S. Code 1681b Permissible purposes of consumer reports I never gave any written consent to report anything on my consumer reports. XXXX XXXX XXXX  XXXX XXXX Date Opened : XX/XX/2018 Balance : {$98000.00}. Please delete this account ASAP.\n",
      "------------------\n",
      "After: My name is X X this complaint is not made in error neither is it being made by a third party. I declare under penalty of perjury I am alleging that a person or company- without my authorization- from unauthorized use of my social security number and card used my personal identifying information to apply for goods, services, or money ; and, was successful in creating some accounts. I have no knowledge of this and all is being investigated by the FTC and Under 15 U.S. Code 1681b Permissible purposes of consumer reports I never gave any written consent to report anything on my consumer reports. X X X  X X Date Opened : XX/XX/2018 Balance : {$98000.00}. Please delete this account ASAP.\n"
     ]
    }
   ],
   "source": [
    "clean_text = re.sub(r'(.)\\1{3,}',r'\\1', sample_text)\n",
    "print_text(sample_text, clean_text)"
   ]
  },
  {
   "cell_type": "markdown",
   "id": "d735944f-b314-42af-8af6-081cab7656d6",
   "metadata": {},
   "source": [
    "## Remove digits\n",
    "\n",
    "For when you want to remove numbers but not dates."
   ]
  },
  {
   "cell_type": "code",
   "execution_count": 36,
   "id": "7d6b8197-5c61-420c-9719-5e427271af8d",
   "metadata": {},
   "outputs": [
    {
     "name": "stdout",
     "output_type": "stream",
     "text": [
      "Before: My name is XXXX XXXX this complaint is not made in error neither is it being made by a third party. I declare under penalty of perjury I am alleging that a person or company- without my authorization- from unauthorized use of my social security number and card used my personal identifying information to apply for goods, services, or money ; and, was successful in creating some accounts. I have no knowledge of this and all is being investigated by the FTC and Under 15 U.S. Code 1681b Permissible purposes of consumer reports I never gave any written consent to report anything on my consumer reports. XXXX XXXX XXXX  XXXX XXXX Date Opened : XX/XX/2018 Balance : {$98000.00}. Please delete this account ASAP.\n",
      "------------------\n",
      "After: My name is XXXX XXXX this complaint is not made in error neither is it being made by a third party. I declare under penalty of perjury I am alleging that a person or company- without my authorization- from unauthorized use of my social security number and card used my personal identifying information to apply for goods, services, or money ; and, was successful in creating some accounts. I have no knowledge of this and all is being investigated by the FTC and Under U.S. Code 1681b Permissible purposes of consumer reports I never gave any written consent to report anything on my consumer reports. XXXX XXXX XXXX XXXX XXXX Date Opened : XX/XX/2018 Balance : {$98000.00}. Please delete this account ASAP.\n"
     ]
    }
   ],
   "source": [
    "clean_text = \" \".join([w for w in sample_text.split() if not w.isdigit()]) # Side effect: removes extra spaces\n",
    "print_text(sample_text, clean_text)"
   ]
  },
  {
   "cell_type": "markdown",
   "id": "d9f5cf17-693f-4eaf-aa58-7f8c89825015",
   "metadata": {},
   "source": [
    "## Remove stopwords"
   ]
  },
  {
   "cell_type": "code",
   "execution_count": 24,
   "id": "4c0220bc-2499-4535-8234-11dc8cc50606",
   "metadata": {},
   "outputs": [
    {
     "data": {
      "text/plain": [
       "{'a',\n",
       " 'about',\n",
       " 'above',\n",
       " 'after',\n",
       " 'again',\n",
       " 'against',\n",
       " 'ain',\n",
       " 'all',\n",
       " 'am',\n",
       " 'an',\n",
       " 'and',\n",
       " 'any',\n",
       " 'are',\n",
       " 'aren',\n",
       " \"aren't\",\n",
       " 'as',\n",
       " 'at',\n",
       " 'be',\n",
       " 'because',\n",
       " 'been',\n",
       " 'before',\n",
       " 'being',\n",
       " 'below',\n",
       " 'between',\n",
       " 'both',\n",
       " 'but',\n",
       " 'by',\n",
       " 'can',\n",
       " 'couldn',\n",
       " \"couldn't\",\n",
       " 'd',\n",
       " 'did',\n",
       " 'didn',\n",
       " \"didn't\",\n",
       " 'do',\n",
       " 'does',\n",
       " 'doesn',\n",
       " \"doesn't\",\n",
       " 'doing',\n",
       " 'don',\n",
       " \"don't\",\n",
       " 'down',\n",
       " 'during',\n",
       " 'each',\n",
       " 'few',\n",
       " 'for',\n",
       " 'from',\n",
       " 'further',\n",
       " 'had',\n",
       " 'hadn',\n",
       " \"hadn't\",\n",
       " 'has',\n",
       " 'hasn',\n",
       " \"hasn't\",\n",
       " 'have',\n",
       " 'haven',\n",
       " \"haven't\",\n",
       " 'having',\n",
       " 'he',\n",
       " 'her',\n",
       " 'here',\n",
       " 'hers',\n",
       " 'herself',\n",
       " 'him',\n",
       " 'himself',\n",
       " 'his',\n",
       " 'how',\n",
       " 'i',\n",
       " 'if',\n",
       " 'in',\n",
       " 'into',\n",
       " 'is',\n",
       " 'isn',\n",
       " \"isn't\",\n",
       " 'it',\n",
       " \"it's\",\n",
       " 'its',\n",
       " 'itself',\n",
       " 'just',\n",
       " 'll',\n",
       " 'm',\n",
       " 'ma',\n",
       " 'me',\n",
       " 'mightn',\n",
       " \"mightn't\",\n",
       " 'more',\n",
       " 'most',\n",
       " 'mustn',\n",
       " \"mustn't\",\n",
       " 'my',\n",
       " 'myself',\n",
       " 'needn',\n",
       " \"needn't\",\n",
       " 'no',\n",
       " 'nor',\n",
       " 'not',\n",
       " 'now',\n",
       " 'o',\n",
       " 'of',\n",
       " 'off',\n",
       " 'on',\n",
       " 'once',\n",
       " 'only',\n",
       " 'or',\n",
       " 'other',\n",
       " 'our',\n",
       " 'ours',\n",
       " 'ourselves',\n",
       " 'out',\n",
       " 'over',\n",
       " 'own',\n",
       " 're',\n",
       " 's',\n",
       " 'same',\n",
       " 'shan',\n",
       " \"shan't\",\n",
       " 'she',\n",
       " \"she's\",\n",
       " 'should',\n",
       " \"should've\",\n",
       " 'shouldn',\n",
       " \"shouldn't\",\n",
       " 'so',\n",
       " 'some',\n",
       " 'such',\n",
       " 't',\n",
       " 'than',\n",
       " 'that',\n",
       " \"that'll\",\n",
       " 'the',\n",
       " 'their',\n",
       " 'theirs',\n",
       " 'them',\n",
       " 'themselves',\n",
       " 'then',\n",
       " 'there',\n",
       " 'these',\n",
       " 'they',\n",
       " 'this',\n",
       " 'those',\n",
       " 'through',\n",
       " 'to',\n",
       " 'too',\n",
       " 'under',\n",
       " 'until',\n",
       " 'up',\n",
       " 've',\n",
       " 'very',\n",
       " 'was',\n",
       " 'wasn',\n",
       " \"wasn't\",\n",
       " 'we',\n",
       " 'were',\n",
       " 'weren',\n",
       " \"weren't\",\n",
       " 'what',\n",
       " 'when',\n",
       " 'where',\n",
       " 'which',\n",
       " 'while',\n",
       " 'who',\n",
       " 'whom',\n",
       " 'why',\n",
       " 'will',\n",
       " 'with',\n",
       " 'won',\n",
       " \"won't\",\n",
       " 'wouldn',\n",
       " \"wouldn't\",\n",
       " 'y',\n",
       " 'you',\n",
       " \"you'd\",\n",
       " \"you'll\",\n",
       " \"you're\",\n",
       " \"you've\",\n",
       " 'your',\n",
       " 'yours',\n",
       " 'yourself',\n",
       " 'yourselves'}"
      ]
     },
     "execution_count": 24,
     "metadata": {},
     "output_type": "execute_result"
    }
   ],
   "source": [
    "stop_words = set(stopwords.words('english'))\n",
    "\n",
    "stop_words"
   ]
  },
  {
   "cell_type": "code",
   "execution_count": 30,
   "id": "05182446-98fd-4c02-b7d4-0d3699411a00",
   "metadata": {
    "scrolled": true
   },
   "outputs": [
    {
     "name": "stdout",
     "output_type": "stream",
     "text": [
      "Before: My name is XXXX XXXX this complaint is not made in error neither is it being made by a third party. I declare under penalty of perjury I am alleging that a person or company- without my authorization- from unauthorized use of my social security number and card used my personal identifying information to apply for goods, services, or money ; and, was successful in creating some accounts. I have no knowledge of this and all is being investigated by the FTC and Under 15 U.S. Code 1681b Permissible purposes of consumer reports I never gave any written consent to report anything on my consumer reports. XXXX XXXX XXXX  XXXX XXXX Date Opened : XX/XX/2018 Balance : {$98000.00}. Please delete this account ASAP.\n",
      "------------------\n",
      "After: My name XXXX XXXX complaint made error neither made third party. I declare penalty perjury I alleging person company- without authorization- unauthorized use social security number card used personal identifying information apply goods, services, money ; and, successful creating accounts. I knowledge investigated FTC Under 15 U.S. Code 1681b Permissible purposes consumer reports I never gave written consent report anything consumer reports. XXXX XXXX XXXX XXXX XXXX Date Opened : XX/XX/2018 Balance : {$98000.00}. Please delete account ASAP.\n"
     ]
    }
   ],
   "source": [
    "tokens = sample_text.split()\n",
    "# clean_tokens = Counter([t for t in tokens if not t in stop_words])\n",
    "clean_tokens = [t for t in tokens if not t in stop_words]\n",
    "clean_text = \" \".join(clean_tokens)\n",
    "print_text(sample_text, clean_text)"
   ]
  },
  {
   "cell_type": "markdown",
   "id": "e7d28116-b6bf-40a5-9051-45a60bc285a9",
   "metadata": {},
   "source": [
    "## Remove short tokens\n",
    "\n",
    "When you want to remove tokens with few characters"
   ]
  },
  {
   "cell_type": "code",
   "execution_count": 39,
   "id": "ff570b75-6de2-471e-b070-62b46bf39f04",
   "metadata": {},
   "outputs": [
    {
     "name": "stdout",
     "output_type": "stream",
     "text": [
      "Before: My name is XXXX XXXX this complaint is not made in error neither is it being made by a third party. I declare under penalty of perjury I am alleging that a person or company- without my authorization- from unauthorized use of my social security number and card used my personal identifying information to apply for goods, services, or money ; and, was successful in creating some accounts. I have no knowledge of this and all is being investigated by the FTC and Under 15 U.S. Code 1681b Permissible purposes of consumer reports I never gave any written consent to report anything on my consumer reports. XXXX XXXX XXXX  XXXX XXXX Date Opened : XX/XX/2018 Balance : {$98000.00}. Please delete this account ASAP.\n",
      "------------------\n",
      "After: name XXXX XXXX this complaint not made error neither being made third party. declare under penalty perjury alleging that person company- without authorization- from unauthorized use social security number and card used personal identifying information apply for goods, services, money and, was successful creating some accounts. have knowledge this and all being investigated the FTC and Under U.S. Code 1681b Permissible purposes consumer reports never gave any written consent report anything consumer reports. XXXX XXXX XXXX XXXX XXXX Date Opened XX/XX/2018 Balance {$98000.00}. Please delete this account ASAP.\n"
     ]
    }
   ],
   "source": [
    "tokens = sample_text.split()\n",
    "clean_tokens = [t for t in tokens if len(t) > 2]\n",
    "clean_text = \" \".join(clean_tokens)\n",
    "print_text(sample_text, clean_text)"
   ]
  },
  {
   "cell_type": "markdown",
   "id": "a600957f-5ea6-433d-81e1-0ca5645bd58b",
   "metadata": {},
   "source": [
    "## Transform emojis into characters\n",
    "\n",
    "Use the emoji library."
   ]
  },
  {
   "cell_type": "code",
   "execution_count": 40,
   "id": "eb7986e6-7fd5-4d44-b978-41f5be6c9eea",
   "metadata": {},
   "outputs": [
    {
     "ename": "ModuleNotFoundError",
     "evalue": "No module named 'emoji'",
     "output_type": "error",
     "traceback": [
      "\u001b[1;31m---------------------------------------------------------------------------\u001b[0m",
      "\u001b[1;31mModuleNotFoundError\u001b[0m                       Traceback (most recent call last)",
      "Cell \u001b[1;32mIn[40], line 1\u001b[0m\n\u001b[1;32m----> 1\u001b[0m \u001b[38;5;28;01mfrom\u001b[39;00m \u001b[38;5;21;01memoji\u001b[39;00m \u001b[38;5;28;01mimport\u001b[39;00m demojize\n\u001b[0;32m      3\u001b[0m sample_text2 \u001b[38;5;241m=\u001b[39m \u001b[38;5;124m\"\u001b[39m\u001b[38;5;124mI love 🥑\u001b[39m\u001b[38;5;124m\"\u001b[39m\n\u001b[0;32m      4\u001b[0m clean_text \u001b[38;5;241m=\u001b[39m demojize(sample_text2)\n",
      "\u001b[1;31mModuleNotFoundError\u001b[0m: No module named 'emoji'"
     ]
    }
   ],
   "source": [
    "# from emoji import demojize\n",
    "\n",
    "# sample_text2 = \"I love 🥑\"\n",
    "# clean_text = demojize(sample_text2)\n",
    "# print_text(sample_text2, clean_text)"
   ]
  },
  {
   "cell_type": "markdown",
   "id": "5f47555c-b0d6-4486-bc2f-dc1256a4df21",
   "metadata": {},
   "source": [
    "## Split text into sentences using NLTK"
   ]
  },
  {
   "cell_type": "code",
   "execution_count": 41,
   "id": "405b9d80-6b18-4bab-b7b6-533fba9d0a36",
   "metadata": {},
   "outputs": [
    {
     "name": "stdout",
     "output_type": "stream",
     "text": [
      "Before: My name is XXXX XXXX this complaint is not made in error neither is it being made by a third party. I declare under penalty of perjury I am alleging that a person or company- without my authorization- from unauthorized use of my social security number and card used my personal identifying information to apply for goods, services, or money ; and, was successful in creating some accounts. I have no knowledge of this and all is being investigated by the FTC and Under 15 U.S. Code 1681b Permissible purposes of consumer reports I never gave any written consent to report anything on my consumer reports. XXXX XXXX XXXX  XXXX XXXX Date Opened : XX/XX/2018 Balance : {$98000.00}. Please delete this account ASAP.\n",
      "------------------\n",
      "After: ['My name is XXXX XXXX this complaint is not made in error neither is it being made by a third party.', 'I declare under penalty of perjury I am alleging that a person or company- without my authorization- from unauthorized use of my social security number and card used my personal identifying information to apply for goods, services, or money ; and, was successful in creating some accounts.', 'I have no knowledge of this and all is being investigated by the FTC and Under 15 U.S. Code 1681b Permissible purposes of consumer reports I never gave any written consent to report anything on my consumer reports.', 'XXXX XXXX XXXX  XXXX XXXX Date Opened : XX/XX/2018 Balance : {$98000.00}.', 'Please delete this account ASAP.']\n"
     ]
    }
   ],
   "source": [
    "sentences = sent_tokenize(sample_text)\n",
    "print_text(sample_text, sentences)"
   ]
  },
  {
   "cell_type": "markdown",
   "id": "cd9a3d4f-ec6f-4b1c-b51f-65579d08aef7",
   "metadata": {},
   "source": [
    "## Function to clean text"
   ]
  },
  {
   "cell_type": "code",
   "execution_count": 42,
   "id": "d731f2a6-f6f5-49c2-9e6b-b5fc8040d3ca",
   "metadata": {
    "scrolled": true
   },
   "outputs": [
    {
     "data": {
      "text/plain": [
       "0         name complaint made error neither made third d...\n",
       "1         searched pointed website legitimately believed...\n",
       "2         particular account stating owe listed credit r...\n",
       "3         supplied proof doctrine estoppel engelhardt v ...\n",
       "4         hello writing regarding account credit reports...\n",
       "                                ...                        \n",
       "353427                        collections account knowledge\n",
       "353428    dear cfpb reason complaint tried resolve accou...\n",
       "353429    frca violations failing follow debt dispute pr...\n",
       "353430    acquired hecm reverse mortgage property review...\n",
       "353431    tried contact cash app fraudulent payment refu...\n",
       "Name: text, Length: 353432, dtype: object"
      ]
     },
     "execution_count": 42,
     "metadata": {},
     "output_type": "execute_result"
    }
   ],
   "source": [
    "def preprocess_text(text):\n",
    "    text = text.lower()  # Lowercase text\n",
    "    text = re.sub(r'\\b[xX]{2,}\\b', '', text)  # Remove XXX's\n",
    "    text = \" \".join([w for w in text.split() if w.isalpha()])  # Remove non-alphabetic characters\n",
    "    tokens = text.split()  # Create tokens\n",
    "    clean_tokens = [t for t in tokens if not t in stop_words]  # Remove stop words\n",
    "    clean_text = \" \".join(clean_tokens)  # Join clean tokens\n",
    "    clean_text = \" \".join(clean_text.split())  # Remove extra spaces, tabs, and new lines\n",
    "    return clean_text\n",
    "\n",
    "complaints[\"text\"].map(preprocess_text)"
   ]
  },
  {
   "cell_type": "code",
   "execution_count": 46,
   "id": "6a50a147-af52-4725-a390-0b6d739ff0d9",
   "metadata": {},
   "outputs": [],
   "source": [
    "complaints['text'] = complaints['text'].apply(preprocess_text)"
   ]
  },
  {
   "cell_type": "code",
   "execution_count": 48,
   "id": "8ad93152-f17e-42e8-887e-14ad86a49019",
   "metadata": {},
   "outputs": [
    {
     "data": {
      "text/plain": [
       "text     tried contact cash app fraudulent payment refu...\n",
       "Issue                                        Fraud or scam\n",
       "Name: 353431, dtype: object"
      ]
     },
     "execution_count": 48,
     "metadata": {},
     "output_type": "execute_result"
    }
   ],
   "source": [
    "complaints.iloc[353431]"
   ]
  },
  {
   "cell_type": "markdown",
   "id": "ce447064-85a7-43b8-b3b0-9853fcafcc96",
   "metadata": {},
   "source": [
    "## Export clean text as csv"
   ]
  },
  {
   "cell_type": "code",
   "execution_count": 49,
   "id": "2e316189-3adc-43c6-a3ff-051e82ffdc10",
   "metadata": {},
   "outputs": [],
   "source": [
    "complaints.to_csv('../data/complaints_clean.csv')"
   ]
  },
  {
   "cell_type": "markdown",
   "id": "7f9036b2-b4a1-47d7-9692-d0be5520d5e0",
   "metadata": {},
   "source": [
    "## Model Practice"
   ]
  },
  {
   "cell_type": "code",
   "execution_count": 50,
   "id": "445f9989-f4ba-4bea-90d6-b8188531dcca",
   "metadata": {},
   "outputs": [],
   "source": [
    "X = complaints[['text']]\n",
    "y = complaints['Issue']\n",
    "\n",
    "X_train, X_test, y_train, y_test = train_test_split(X, y, random_state = 321, stratify = y)"
   ]
  },
  {
   "cell_type": "markdown",
   "id": "23944682-dd2d-4e1b-ae5f-4ff7080dff8e",
   "metadata": {},
   "source": [
    "Use CountVectorizer to transform text into a vector based on the frequency of the word in the text. "
   ]
  },
  {
   "cell_type": "code",
   "execution_count": 51,
   "id": "c4a0640a-cf5e-42ff-baab-b40f91c48fda",
   "metadata": {},
   "outputs": [],
   "source": [
    "vect = CountVectorizer()\n",
    "\n",
    "X_train_vect = vect.fit_transform(X_train['text'])\n",
    "X_test_vect = vect.transform(X_test['text'])"
   ]
  },
  {
   "cell_type": "code",
   "execution_count": 53,
   "id": "1ac587e1-fd10-4ae0-91a0-1256b59eebe3",
   "metadata": {
    "scrolled": true
   },
   "outputs": [
    {
     "data": {
      "text/plain": [
       "<265074x60047 sparse matrix of type '<class 'numpy.int64'>'\n",
       "\twith 12518802 stored elements in Compressed Sparse Row format>"
      ]
     },
     "execution_count": 53,
     "metadata": {},
     "output_type": "execute_result"
    }
   ],
   "source": [
    "X_train_vect"
   ]
  },
  {
   "cell_type": "markdown",
   "id": "9119a37c-50d9-4666-a598-bcbe61045d0a",
   "metadata": {},
   "source": [
    "Use Multinomial Naive Bayes to calculate the probability distribution of text data. "
   ]
  },
  {
   "cell_type": "code",
   "execution_count": 54,
   "id": "5881f275-12d0-4e2f-93bb-70a30a471797",
   "metadata": {},
   "outputs": [],
   "source": [
    "nb = MultinomialNB().fit(X_train_vect, y_train)\n",
    "\n",
    "y_pred = nb.predict(X_test_vect)"
   ]
  },
  {
   "cell_type": "code",
   "execution_count": 55,
   "id": "8fc0fe78-65c8-4345-a48c-04d6913bbf23",
   "metadata": {},
   "outputs": [
    {
     "name": "stdout",
     "output_type": "stream",
     "text": [
      "Accuracy: 0.8207972113447566\n",
      "[[11754  2003   454  3785   295]\n",
      " [  586  4494    47    96    88]\n",
      " [   69    59  2804   117    38]\n",
      " [ 5006   768   707 49251  1594]\n",
      " [   30    38    15    39  4221]]\n"
     ]
    }
   ],
   "source": [
    "print(f'Accuracy: {accuracy_score(y_test, y_pred)}')\n",
    "print(confusion_matrix(y_test, y_pred))"
   ]
  },
  {
   "cell_type": "markdown",
   "id": "c8c06928-0f4d-49fe-ba53-2d06c422c9c1",
   "metadata": {},
   "source": [
    "Investigate how the model uses different words."
   ]
  },
  {
   "cell_type": "code",
   "execution_count": 56,
   "id": "70970b35-e947-4d22-95e2-0a76fba14168",
   "metadata": {},
   "outputs": [
    {
     "data": {
      "text/plain": [
       "array([0.00011038, 0.00010508, 0.00014907, 0.00013521, 0.00017622])"
      ]
     },
     "execution_count": 56,
     "metadata": {},
     "output_type": "execute_result"
    }
   ],
   "source": [
    "word = 'great'\n",
    "\n",
    "np.exp(nb.feature_log_prob_)[:, vect.vocabulary_[word]]"
   ]
  }
 ],
 "metadata": {
  "kernelspec": {
   "display_name": "Python 3 (ipykernel)",
   "language": "python",
   "name": "python3"
  },
  "language_info": {
   "codemirror_mode": {
    "name": "ipython",
    "version": 3
   },
   "file_extension": ".py",
   "mimetype": "text/x-python",
   "name": "python",
   "nbconvert_exporter": "python",
   "pygments_lexer": "ipython3",
   "version": "3.11.8"
  }
 },
 "nbformat": 4,
 "nbformat_minor": 5
}
